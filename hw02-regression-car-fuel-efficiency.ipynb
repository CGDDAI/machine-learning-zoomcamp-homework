{
 "cells": [
  {
   "cell_type": "markdown",
   "id": "4d63a680-f436-4c18-8c85-a2ce926a31c1",
   "metadata": {},
   "source": [
    "<div style=\"color:white; background-color:#263b52; text-align:center; padding: 25px 0;\">\n",
    "    <div style=\"font-size:34px; font-family:calibri; font-weight:bold;\">\n",
    "        ML Zoomcamp 2025\n",
    "    </div>\n",
    "    <div style=\"font-size:22px; font-family:verdana; line-height: 1.5; margin-top:10px;\">\n",
    "        Homework 2: Regression - Car fuel efficiency\n",
    "    </div>\n",
    "</div>\n",
    "\n",
    "<div style=\"margin-top:20px; overflow:auto;\">\n",
    "  <div style=\"float:left; width:50%; text-align:left; font-family:verdana; font-size:16px; color:#263b52;\">\n",
    "      <p style=\"margin:4px 0;\"><b>Author:</b> CGD</p>\n",
    "      <p style=\"margin:4px 0;\"><b>GitHub:</b> <a href=\"https://github.com/CGD2401\" target=\"_blank\">CGD2401</a></p>\n",
    "      <p style=\"margin:4px 0;\"><b>Date:</b> October 2025</p>\n",
    "  </div>\n",
    "\n",
    "  <div style=\"float:right; width:50%; text-align:right; font-family:verdana; font-size:16px; color:#263b52;\">\n",
    "      <p style=\"margin:4px 0;\">Notebook prepared for</p>\n",
    "      <p style=\"margin:4px 0;\"><b>Machine Learning Zoomcamp</b></p>\n",
    "      <p style=\"margin:4px 0;\">Homework covering Q1–Q6</p>\n",
    "  </div>\n",
    "</div>\n",
    "\n",
    "<div style=\"width:100%; clear:both;\"></div>\n",
    "\n",
    "<hr style=\"border:3px solid #7ba5b0; margin-top:25px;\"/>\n"
   ]
  },
  {
   "cell_type": "markdown",
   "id": "8c149014-3acd-4cfd-96df-c94c02ce9f43",
   "metadata": {},
   "source": [
    "## Objective\n",
    "Build a **linear regression** model to predict `fuel_efficiency_mpg` using the following columns:\n",
    "\n",
    "- `engine_displacement`\n",
    "- `horsepower`\n",
    "- `vehicle_weight`\n",
    "- `model_year`\n",
    "- `fuel_efficiency_mpg` *(target)*\n",
    "\n",
    "**Metric:** RMSE  \n",
    "**Splits:** 60% / 20% / 20% (train/val/test)  \n",
    "**Base seed:** 42\n"
   ]
  },
  {
   "cell_type": "markdown",
   "id": "07ba77e6-83a9-4236-bc75-d9eda0661cf8",
   "metadata": {},
   "source": [
    "## 1. Importing Libraries\n",
    "In this section, we load the essential Python libraries required for the homework.  \n",
    "- **NumPy** for numerical operations  \n",
    "- **Pandas** for data manipulation and analysis  \n",
    "- **Matplotlib** and **Seaborn** for data visualization "
   ]
  },
  {
   "cell_type": "code",
   "execution_count": 3,
   "id": "65541f3f-fda8-43db-bafc-b9feafa86e8a",
   "metadata": {},
   "outputs": [],
   "source": [
    "import numpy as np\n",
    "import pandas as pd\n",
    "import matplotlib.pyplot as plt\n",
    "\n",
    "# %matplotlib inline"
   ]
  },
  {
   "cell_type": "markdown",
   "id": "21639cc0",
   "metadata": {},
   "source": [
    "\n",
    "## 2. Data loading and column selection\n",
    "\n",
    "In this section we download and load the Car Fuel Efficiency dataset into a Pandas DataFrame. The dataset is downloaded from GitHub (official course URL)."
   ]
  },
  {
   "cell_type": "code",
   "execution_count": 5,
   "id": "8a472673",
   "metadata": {},
   "outputs": [
    {
     "data": {
      "text/html": [
       "<div>\n",
       "<style scoped>\n",
       "    .dataframe tbody tr th:only-of-type {\n",
       "        vertical-align: middle;\n",
       "    }\n",
       "\n",
       "    .dataframe tbody tr th {\n",
       "        vertical-align: top;\n",
       "    }\n",
       "\n",
       "    .dataframe thead th {\n",
       "        text-align: right;\n",
       "    }\n",
       "</style>\n",
       "<table border=\"1\" class=\"dataframe\">\n",
       "  <thead>\n",
       "    <tr style=\"text-align: right;\">\n",
       "      <th></th>\n",
       "      <th>engine_displacement</th>\n",
       "      <th>horsepower</th>\n",
       "      <th>vehicle_weight</th>\n",
       "      <th>model_year</th>\n",
       "      <th>fuel_efficiency_mpg</th>\n",
       "    </tr>\n",
       "  </thead>\n",
       "  <tbody>\n",
       "    <tr>\n",
       "      <th>0</th>\n",
       "      <td>170</td>\n",
       "      <td>159.0</td>\n",
       "      <td>3413.433759</td>\n",
       "      <td>2003</td>\n",
       "      <td>13.231729</td>\n",
       "    </tr>\n",
       "    <tr>\n",
       "      <th>1</th>\n",
       "      <td>130</td>\n",
       "      <td>97.0</td>\n",
       "      <td>3149.664934</td>\n",
       "      <td>2007</td>\n",
       "      <td>13.688217</td>\n",
       "    </tr>\n",
       "    <tr>\n",
       "      <th>2</th>\n",
       "      <td>170</td>\n",
       "      <td>78.0</td>\n",
       "      <td>3079.038997</td>\n",
       "      <td>2018</td>\n",
       "      <td>14.246341</td>\n",
       "    </tr>\n",
       "    <tr>\n",
       "      <th>3</th>\n",
       "      <td>220</td>\n",
       "      <td>NaN</td>\n",
       "      <td>2542.392402</td>\n",
       "      <td>2009</td>\n",
       "      <td>16.912736</td>\n",
       "    </tr>\n",
       "    <tr>\n",
       "      <th>4</th>\n",
       "      <td>210</td>\n",
       "      <td>140.0</td>\n",
       "      <td>3460.870990</td>\n",
       "      <td>2009</td>\n",
       "      <td>12.488369</td>\n",
       "    </tr>\n",
       "    <tr>\n",
       "      <th>...</th>\n",
       "      <td>...</td>\n",
       "      <td>...</td>\n",
       "      <td>...</td>\n",
       "      <td>...</td>\n",
       "      <td>...</td>\n",
       "    </tr>\n",
       "    <tr>\n",
       "      <th>9699</th>\n",
       "      <td>140</td>\n",
       "      <td>164.0</td>\n",
       "      <td>2981.107371</td>\n",
       "      <td>2013</td>\n",
       "      <td>15.101802</td>\n",
       "    </tr>\n",
       "    <tr>\n",
       "      <th>9700</th>\n",
       "      <td>180</td>\n",
       "      <td>154.0</td>\n",
       "      <td>2439.525729</td>\n",
       "      <td>2004</td>\n",
       "      <td>17.962326</td>\n",
       "    </tr>\n",
       "    <tr>\n",
       "      <th>9701</th>\n",
       "      <td>220</td>\n",
       "      <td>138.0</td>\n",
       "      <td>2583.471318</td>\n",
       "      <td>2008</td>\n",
       "      <td>17.186587</td>\n",
       "    </tr>\n",
       "    <tr>\n",
       "      <th>9702</th>\n",
       "      <td>230</td>\n",
       "      <td>177.0</td>\n",
       "      <td>2905.527390</td>\n",
       "      <td>2011</td>\n",
       "      <td>15.331551</td>\n",
       "    </tr>\n",
       "    <tr>\n",
       "      <th>9703</th>\n",
       "      <td>270</td>\n",
       "      <td>140.0</td>\n",
       "      <td>2908.043477</td>\n",
       "      <td>2005</td>\n",
       "      <td>14.884467</td>\n",
       "    </tr>\n",
       "  </tbody>\n",
       "</table>\n",
       "<p>9704 rows × 5 columns</p>\n",
       "</div>"
      ],
      "text/plain": [
       "      engine_displacement  horsepower  vehicle_weight  model_year  \\\n",
       "0                     170       159.0     3413.433759        2003   \n",
       "1                     130        97.0     3149.664934        2007   \n",
       "2                     170        78.0     3079.038997        2018   \n",
       "3                     220         NaN     2542.392402        2009   \n",
       "4                     210       140.0     3460.870990        2009   \n",
       "...                   ...         ...             ...         ...   \n",
       "9699                  140       164.0     2981.107371        2013   \n",
       "9700                  180       154.0     2439.525729        2004   \n",
       "9701                  220       138.0     2583.471318        2008   \n",
       "9702                  230       177.0     2905.527390        2011   \n",
       "9703                  270       140.0     2908.043477        2005   \n",
       "\n",
       "      fuel_efficiency_mpg  \n",
       "0               13.231729  \n",
       "1               13.688217  \n",
       "2               14.246341  \n",
       "3               16.912736  \n",
       "4               12.488369  \n",
       "...                   ...  \n",
       "9699            15.101802  \n",
       "9700            17.962326  \n",
       "9701            17.186587  \n",
       "9702            15.331551  \n",
       "9703            14.884467  \n",
       "\n",
       "[9704 rows x 5 columns]"
      ]
     },
     "execution_count": 5,
     "metadata": {},
     "output_type": "execute_result"
    }
   ],
   "source": [
    "URL = \"https://raw.githubusercontent.com/alexeygrigorev/datasets/master/car_fuel_efficiency.csv\"\n",
    "use_cols = ['engine_displacement','horsepower','vehicle_weight','model_year','fuel_efficiency_mpg']\n",
    "df = pd.read_csv(URL, usecols=use_cols)\n",
    "df"
   ]
  },
  {
   "cell_type": "code",
   "execution_count": 6,
   "id": "30429b0a-f8fe-4d5d-9935-1023e90daa86",
   "metadata": {},
   "outputs": [
    {
     "name": "stdout",
     "output_type": "stream",
     "text": [
      "Shape: (9704, 5)\n"
     ]
    }
   ],
   "source": [
    "print(\"Shape:\", df.shape)"
   ]
  },
  {
   "cell_type": "markdown",
   "id": "c3853f27",
   "metadata": {},
   "source": [
    "## 3. Exploratory Data Analysis (EDA)\n",
    "\n",
    "In this section we perform basic exploration to understand the dataset’s structure and quality.\n",
    "- Missing values per column\n",
    "- Descriptive statistics\n",
    "- Histogram + skewness of `fuel_efficiency_mpg` (long tail check)"
   ]
  },
  {
   "cell_type": "code",
   "execution_count": 8,
   "id": "6df9c822",
   "metadata": {},
   "outputs": [
    {
     "data": {
      "text/plain": [
       "engine_displacement      0\n",
       "horsepower             708\n",
       "vehicle_weight           0\n",
       "model_year               0\n",
       "fuel_efficiency_mpg      0\n",
       "dtype: int64"
      ]
     },
     "metadata": {},
     "output_type": "display_data"
    },
    {
     "data": {
      "text/html": [
       "<div>\n",
       "<style scoped>\n",
       "    .dataframe tbody tr th:only-of-type {\n",
       "        vertical-align: middle;\n",
       "    }\n",
       "\n",
       "    .dataframe tbody tr th {\n",
       "        vertical-align: top;\n",
       "    }\n",
       "\n",
       "    .dataframe thead th {\n",
       "        text-align: right;\n",
       "    }\n",
       "</style>\n",
       "<table border=\"1\" class=\"dataframe\">\n",
       "  <thead>\n",
       "    <tr style=\"text-align: right;\">\n",
       "      <th></th>\n",
       "      <th>engine_displacement</th>\n",
       "      <th>horsepower</th>\n",
       "      <th>vehicle_weight</th>\n",
       "      <th>model_year</th>\n",
       "      <th>fuel_efficiency_mpg</th>\n",
       "    </tr>\n",
       "  </thead>\n",
       "  <tbody>\n",
       "    <tr>\n",
       "      <th>count</th>\n",
       "      <td>9704.000000</td>\n",
       "      <td>8996.000000</td>\n",
       "      <td>9704.000000</td>\n",
       "      <td>9704.000000</td>\n",
       "      <td>9704.000000</td>\n",
       "    </tr>\n",
       "    <tr>\n",
       "      <th>mean</th>\n",
       "      <td>199.708368</td>\n",
       "      <td>149.657292</td>\n",
       "      <td>3001.280993</td>\n",
       "      <td>2011.484027</td>\n",
       "      <td>14.985243</td>\n",
       "    </tr>\n",
       "    <tr>\n",
       "      <th>std</th>\n",
       "      <td>49.455319</td>\n",
       "      <td>29.879555</td>\n",
       "      <td>497.894860</td>\n",
       "      <td>6.659808</td>\n",
       "      <td>2.556468</td>\n",
       "    </tr>\n",
       "    <tr>\n",
       "      <th>min</th>\n",
       "      <td>10.000000</td>\n",
       "      <td>37.000000</td>\n",
       "      <td>952.681761</td>\n",
       "      <td>2000.000000</td>\n",
       "      <td>6.200971</td>\n",
       "    </tr>\n",
       "    <tr>\n",
       "      <th>25%</th>\n",
       "      <td>170.000000</td>\n",
       "      <td>130.000000</td>\n",
       "      <td>2666.248985</td>\n",
       "      <td>2006.000000</td>\n",
       "      <td>13.267459</td>\n",
       "    </tr>\n",
       "    <tr>\n",
       "      <th>50%</th>\n",
       "      <td>200.000000</td>\n",
       "      <td>149.000000</td>\n",
       "      <td>2993.226296</td>\n",
       "      <td>2012.000000</td>\n",
       "      <td>15.006037</td>\n",
       "    </tr>\n",
       "    <tr>\n",
       "      <th>75%</th>\n",
       "      <td>230.000000</td>\n",
       "      <td>170.000000</td>\n",
       "      <td>3334.957039</td>\n",
       "      <td>2017.000000</td>\n",
       "      <td>16.707965</td>\n",
       "    </tr>\n",
       "    <tr>\n",
       "      <th>max</th>\n",
       "      <td>380.000000</td>\n",
       "      <td>271.000000</td>\n",
       "      <td>4739.077089</td>\n",
       "      <td>2023.000000</td>\n",
       "      <td>25.967222</td>\n",
       "    </tr>\n",
       "  </tbody>\n",
       "</table>\n",
       "</div>"
      ],
      "text/plain": [
       "       engine_displacement   horsepower  vehicle_weight   model_year  \\\n",
       "count          9704.000000  8996.000000     9704.000000  9704.000000   \n",
       "mean            199.708368   149.657292     3001.280993  2011.484027   \n",
       "std              49.455319    29.879555      497.894860     6.659808   \n",
       "min              10.000000    37.000000      952.681761  2000.000000   \n",
       "25%             170.000000   130.000000     2666.248985  2006.000000   \n",
       "50%             200.000000   149.000000     2993.226296  2012.000000   \n",
       "75%             230.000000   170.000000     3334.957039  2017.000000   \n",
       "max             380.000000   271.000000     4739.077089  2023.000000   \n",
       "\n",
       "       fuel_efficiency_mpg  \n",
       "count          9704.000000  \n",
       "mean             14.985243  \n",
       "std               2.556468  \n",
       "min               6.200971  \n",
       "25%              13.267459  \n",
       "50%              15.006037  \n",
       "75%              16.707965  \n",
       "max              25.967222  "
      ]
     },
     "metadata": {},
     "output_type": "display_data"
    }
   ],
   "source": [
    "# Missing values and describe\n",
    "display(df.isna().sum())\n",
    "display(df.describe())"
   ]
  },
  {
   "cell_type": "code",
   "execution_count": 9,
   "id": "5c3afe37-2a73-4629-a4ca-359324a942c4",
   "metadata": {},
   "outputs": [
    {
     "data": {
      "image/png": "[encoded data removed]",
      "text/plain": [
       "<Figure size 640x480 with 1 Axes>"
      ]
     },
     "metadata": {},
     "output_type": "display_data"
    },
    {
     "name": "stdout",
     "output_type": "stream",
     "text": [
      "Skew: -0.012062219273507958\n"
     ]
    }
   ],
   "source": [
    "# Histogram and skew\n",
    "plt.figure()\n",
    "df['fuel_efficiency_mpg'].hist(bins=30)\n",
    "plt.title('Distribution of fuel_efficiency_mpg')\n",
    "plt.xlabel('mpg'); plt.ylabel('Count')\n",
    "plt.show()\n",
    "\n",
    "print(\"Skew:\", df['fuel_efficiency_mpg'].skew())"
   ]
  },
  {
   "cell_type": "markdown",
   "id": "cf22e205-1087-4f7e-8161-913391c50954",
   "metadata": {},
   "source": [
    "## 4. Homework Questions"
   ]
  },
  {
   "cell_type": "markdown",
   "id": "994fe812",
   "metadata": {},
   "source": [
    "#### **Q1**: Missing values"
   ]
  },
  {
   "cell_type": "code",
   "execution_count": 12,
   "id": "46f7534d-1ba8-4a27-9cd8-375cf8edd712",
   "metadata": {},
   "outputs": [
    {
     "name": "stdout",
     "output_type": "stream",
     "text": [
      "Q1 (column with NAs): horsepower\n"
     ]
    }
   ],
   "source": [
    "missing = df.isna().sum()\n",
    "q1_column = missing[missing>0].sort_values(ascending=False).index.tolist()[0]\n",
    "print(\"Q1 (column with NAs):\", q1_column)"
   ]
  },
  {
   "cell_type": "markdown",
   "id": "d8a0215d-b9a9-4cbf-a8d8-5404479ae023",
   "metadata": {},
   "source": [
    "#### **Q2**: Median for horse power "
   ]
  },
  {
   "cell_type": "code",
   "execution_count": 13,
   "id": "1dc3681c",
   "metadata": {},
   "outputs": [
    {
     "name": "stdout",
     "output_type": "stream",
     "text": [
      "Q2 (median horsepower): 149\n"
     ]
    }
   ],
   "source": [
    "q2_median = df['horsepower'].median()\n",
    "print(\"Q2 (median horsepower):\", int(round(q2_median)))\n"
   ]
  },
  {
   "cell_type": "markdown",
   "id": "b6265fdf",
   "metadata": {},
   "source": [
    "\n",
    "## Preparation and split\n",
    "- Shuffle with `seed=42`\n",
    "- Split 60/20/20 (train/val/test)"
   ]
  },
  {
   "cell_type": "code",
   "execution_count": 16,
   "id": "bba86ec1",
   "metadata": {},
   "outputs": [],
   "source": [
    "import numpy as np\n",
    "import pandas as pd\n",
    "\n",
    "num_cols = ['engine_displacement','horsepower','vehicle_weight','model_year']\n",
    "target = 'fuel_efficiency_mpg'\n",
    "\n",
    "def add_bias(X):\n",
    "    ones = np.ones(X.shape[0])\n",
    "    return np.column_stack([ones, X])\n",
    "\n",
    "def train_linear_regression(X, y, r=0.0):\n",
    "    \"\"\"Train linear regression with optional L2 (ridge) using the normal equation.\n",
    "    We do not regularize the bias term.\n",
    "    \"\"\"\n",
    "    Xb = add_bias(X)\n",
    "    reg = r * np.eye(Xb.shape[1])\n",
    "    reg[0, 0] = 0.0  # do not regularize bias (bias = first column of ones)\n",
    "    XTX = Xb.T @ Xb\n",
    "    XTy = Xb.T @ y\n",
    "    w = np.linalg.solve(XTX + reg, XTy)\n",
    "    return w\n",
    "\n",
    "def predict_linear_regression(X, w):\n",
    "    return add_bias(X) @ w\n",
    "\n",
    "def rmse(y, y_pred):\n",
    "    return np.sqrt(np.mean((y - y_pred) ** 2))\n",
    "\n",
    "def shuffle_split(df_in, seed, train_frac=0.6, val_frac=0.2, test_frac=0.2):\n",
    "    n = len(df_in)\n",
    "    idx = np.arange(n)\n",
    "    rng = np.random.RandomState(seed)\n",
    "    rng.shuffle(idx)\n",
    "    n_train = int(n * train_frac)\n",
    "    n_val = int(n * val_frac)\n",
    "    d = df_in.iloc[idx].reset_index(drop=True)\n",
    "    return (\n",
    "        d.iloc[:n_train].reset_index(drop=True),\n",
    "        d.iloc[n_train:n_train+n_val].reset_index(drop=True),\n",
    "        d.iloc[n_train+n_val:].reset_index(drop=True),\n",
    "    )\n",
    "\n",
    "def prepare_X(df_part, fill_values=None):\n",
    "    X = df_part[num_cols].copy()\n",
    "    if fill_values is None:\n",
    "        return X.fillna(0).values.astype(float)\n",
    "    else:\n",
    "        return X.fillna(fill_values).values.astype(float)\n"
   ]
  },
  {
   "cell_type": "code",
   "execution_count": 17,
   "id": "1dd68db5",
   "metadata": {},
   "outputs": [
    {
     "data": {
      "text/plain": [
       "(5822, 1940, 1942)"
      ]
     },
     "execution_count": 17,
     "metadata": {},
     "output_type": "execute_result"
    }
   ],
   "source": [
    "\n",
    "df_train, df_val, df_test = shuffle_split(df, seed=42)\n",
    "len(df_train), len(df_val), len(df_test)\n"
   ]
  },
  {
   "cell_type": "markdown",
   "id": "5e3e8371",
   "metadata": {},
   "source": [
    "\n",
    "#### **Q3**: Filling NAs\n",
    "\n",
    "We train two models and compare RMSE on validation.  "
   ]
  },
  {
   "cell_type": "code",
   "execution_count": 18,
   "id": "13c778b7",
   "metadata": {},
   "outputs": [
    {
     "name": "stdout",
     "output_type": "stream",
     "text": [
      "RMSE val (fill 0):    0.52\n",
      "RMSE val (fill mean): 0.46\n",
      "Q3: With mean\n"
     ]
    }
   ],
   "source": [
    "\n",
    "y_train = df_train[target].values\n",
    "y_val = df_val[target].values\n",
    "\n",
    "# Fill=0\n",
    "w0 = train_linear_regression(prepare_X(df_train, None), y_train, r=0.0)\n",
    "rmse_val_0 = rmse(y_val, predict_linear_regression(prepare_X(df_val, None), w0))\n",
    "\n",
    "# Fill=mean (computed on train only)\n",
    "means_train = df_train[num_cols].mean()\n",
    "w_mean = train_linear_regression(prepare_X(df_train, means_train), y_train, r=0.0)\n",
    "rmse_val_mean = rmse(y_val, predict_linear_regression(prepare_X(df_val, means_train), w_mean))\n",
    "\n",
    "print(\"RMSE val (fill 0):   \", round(rmse_val_0, 2))\n",
    "print(\"RMSE val (fill mean):\", round(rmse_val_mean, 2))\n",
    "\n",
    "if round(rmse_val_0,2) < round(rmse_val_mean,2):\n",
    "    print(\"Q3: With 0\")\n",
    "elif round(rmse_val_mean,2) < round(rmse_val_0,2):\n",
    "    print(\"Q3: With mean\")\n",
    "else:\n",
    "    print(\"Q3: Both are equally good\")\n"
   ]
  },
  {
   "cell_type": "markdown",
   "id": "2931dcdd",
   "metadata": {},
   "source": [
    "\n",
    "#### **Q4** — Best regularization -  (Ridge) with 0-imputation\n",
    "\n",
    " We try:`r in [0, 0.01, 0.1, 1, 5, 10, 100]`.  \n",
    "\n"
   ]
  },
  {
   "cell_type": "code",
   "execution_count": 19,
   "id": "74836fcb",
   "metadata": {},
   "outputs": [
    {
     "name": "stdout",
     "output_type": "stream",
     "text": [
      "RMSE(val) by r: [(0, 0.52), (0.01, 0.52), (0.1, 0.52), (1, 0.52), (5, 0.52), (10, 0.52), (100, 0.52)]\n",
      "Q4 (best r): 0\n"
     ]
    },
    {
     "data": {
      "image/png": "[encoded data removed]",
      "text/plain": [
       "<Figure size 640x480 with 1 Axes>"
      ]
     },
     "metadata": {},
     "output_type": "display_data"
    }
   ],
   "source": [
    "\n",
    "r_list = [0, 0.01, 0.1, 1, 5, 10, 100]\n",
    "scores = {}\n",
    "for r in r_list:\n",
    "    w_r = train_linear_regression(prepare_X(df_train, None), y_train, r=r)\n",
    "    scores[r] = rmse(y_val, predict_linear_regression(prepare_X(df_val, None), w_r))\n",
    "\n",
    "pairs = [(r, round(scores[r],2)) for r in r_list]\n",
    "best_r = min(scores.keys(), key=lambda r: (round(scores[r],2), r))\n",
    "print(\"RMSE(val) by r:\", pairs)\n",
    "print(\"Q4 (best r):\", best_r)\n",
    "\n",
    "# Bonus plot: RMSE vs r\n",
    "plt.figure()\n",
    "plt.plot([str(r) for r in r_list], [round(scores[r],4) for r in r_list], marker='o')\n",
    "plt.title(\"Validation RMSE vs Regularization (r)\")\n",
    "plt.xlabel(\"r\"); plt.ylabel(\"RMSE\")\n",
    "plt.show()\n"
   ]
  },
  {
   "cell_type": "markdown",
   "id": "434921b5",
   "metadata": {},
   "source": [
    "\n",
    "#### **Q5** — RMSE Standard Deviation\n",
    "Seeds `0..9`, 0-imputation, no regularization. Compute std of validation RMSE.  \n",
    "**Rounding:** 3 decimals.\n"
   ]
  },
  {
   "cell_type": "code",
   "execution_count": 20,
   "id": "7e3587b0",
   "metadata": {},
   "outputs": [
    {
     "name": "stdout",
     "output_type": "stream",
     "text": [
      "Validation RMSE by seed: [0.521, 0.522, 0.523, 0.516, 0.511, 0.529, 0.532, 0.51, 0.515, 0.513]\n",
      "Q5 std: 0.007\n"
     ]
    }
   ],
   "source": [
    "\n",
    "seeds = list(range(10))\n",
    "val_rmses = []\n",
    "for s in seeds:\n",
    "    dtr, dv, dte = shuffle_split(df, seed=s)\n",
    "    w_s = train_linear_regression(prepare_X(dtr, None), dtr[target].values, r=0.0)\n",
    "    y_pred_s = predict_linear_regression(prepare_X(dv, None), w_s)\n",
    "    val_rmses.append(rmse(dv[target].values, y_pred_s))\n",
    "\n",
    "std_scores = float(np.std(val_rmses))\n",
    "print(\"Validation RMSE by seed:\", [round(x,3) for x in val_rmses])\n",
    "print(\"Q5 std:\", round(std_scores,3))\n"
   ]
  },
  {
   "cell_type": "markdown",
   "id": "c0c18060",
   "metadata": {},
   "source": [
    "\n",
    "#### **Q6** —  Evaluation on test\n",
    "`seed=9`, combine train+val, 0-imputation, `r=0.001`. Report test RMSE.  \n",
    "Pick the closest option.\n"
   ]
  },
  {
   "cell_type": "code",
   "execution_count": 21,
   "id": "eb5046d3",
   "metadata": {},
   "outputs": [
    {
     "name": "stdout",
     "output_type": "stream",
     "text": [
      "Q6 Test RMSE: 0.515\n"
     ]
    },
    {
     "data": {
      "image/png": "[encoded data removed]",
      "text/plain": [
       "<Figure size 640x480 with 1 Axes>"
      ]
     },
     "metadata": {},
     "output_type": "display_data"
    }
   ],
   "source": [
    "\n",
    "dtr, dv, dte = shuffle_split(df, seed=9)\n",
    "df_full = pd.concat([dtr, dv]).reset_index(drop=True)\n",
    "w_final = train_linear_regression(prepare_X(df_full, None), df_full[target].values, r=0.001)\n",
    "rmse_test = rmse(dte[target].values, predict_linear_regression(prepare_X(dte, None), w_final))\n",
    "print(\"Q6 Test RMSE:\", round(rmse_test,3))\n",
    "\n",
    "# Bonus plot: Predicted vs Actual on test\n",
    "y_test = dte[target].values\n",
    "y_pred_test = predict_linear_regression(prepare_X(dte, None), w_final)\n",
    "\n",
    "plt.figure()\n",
    "plt.scatter(y_test, y_pred_test, alpha=0.6)\n",
    "plt.title(\"Test set: Predicted vs Actual MPG\")\n",
    "plt.xlabel(\"Actual MPG\")\n",
    "plt.ylabel(\"Predicted MPG\")\n",
    "lims = [min(y_test.min(), y_pred_test.min()), max(y_test.max(), y_pred_test.max())]\n",
    "plt.plot(lims, lims)\n",
    "plt.show()\n"
   ]
  },
  {
   "cell_type": "markdown",
   "id": "fd36f956",
   "metadata": {},
   "source": [
    "\n"
   ]
  },
  {
   "cell_type": "markdown",
   "id": "12768638",
   "metadata": {},
   "source": []
  }
 ],
 "metadata": {
  "kernelspec": {
   "display_name": "Python 3.9 (ML)",
   "language": "python",
   "name": "ml"
  },
  "language_info": {
   "codemirror_mode": {
    "name": "ipython",
    "version": 3
   },
   "file_extension": ".py",
   "mimetype": "text/x-python",
   "name": "python",
   "nbconvert_exporter": "python",
   "pygments_lexer": "ipython3",
   "version": "3.9.20"
  }
 },
 "nbformat": 4,
 "nbformat_minor": 5
}
