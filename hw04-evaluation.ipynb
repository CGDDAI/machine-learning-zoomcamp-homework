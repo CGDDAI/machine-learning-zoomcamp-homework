{
 "cells": [
  {
   "cell_type": "markdown",
   "id": "393a0269",
   "metadata": {},
   "source": [
    "<div style=\"color:white; background-color:#263b52; text-align:center; padding: 25px 0;\">\n",
    "    <div style=\"font-size:34px; font-family:calibri; font-weight:bold;\">\n",
    "        ML Zoomcamp 2025\n",
    "    </div>\n",
    "    <div style=\"font-size:22px; font-family:verdana; line-height: 1.5; margin-top:10px;\">\n",
    "        Homework 4: Evaluation Metrics for Classification \n",
    "    </div>\n",
    "</div>\n",
    "\n",
    "<div style=\"margin-top:20px; overflow:auto;\">\n",
    "  <div style=\"float:left; width:50%; text-align:left; font-family:verdana; font-size:16px; color:#263b52;\">\n",
    "      <p style=\"margin:4px 0;\"><b>Author:</b> CGD</p>\n",
    "      <p style=\"margin:4px 0;\"><b>GitHub:</b> <a href=\"https://github.com/CGD2401\" target=\"_blank\">CGD2401</a></p>\n",
    "      <p style=\"margin:4px 0;\"><b>Date:</b> October 2025</p>\n",
    "  </div>\n",
    "\n",
    "  <div style=\"float:right; width:50%; text-align:right; font-family:verdana; font-size:16px; color:#263b52;\">\n",
    "      <p style=\"margin:4px 0;\">Notebook prepared for</p>\n",
    "      <p style=\"margin:4px 0;\"><b>Machine Learning Zoomcamp</b></p>\n",
    "      <p style=\"margin:4px 0;\">Homework covering Q1–Q6</p>\n",
    "  </div>\n",
    "</div>\n",
    "\n",
    "<div style=\"width:100%; clear:both;\"></div>\n",
    "\n",
    "<hr style=\"border:3px solid #7ba5b0; margin-top:25px;\"/>\n",
    "\n",
    "**Target:** `converted` (1 = signed up, 0 = not)"
   ]
  },
  {
   "cell_type": "code",
   "execution_count": 1,
   "id": "d26fab41",
   "metadata": {},
   "outputs": [
    {
     "name": "stdout",
     "output_type": "stream",
     "text": [
      "2.2.3\n"
     ]
    }
   ],
   "source": [
    "\n",
    "# %% [markdown]\n",
    "# ## 0. Setup\n",
    "# - Carga de librerías\n",
    "# - URL del dataset\n",
    "# - Opciones de visualización\n",
    "\n",
    "import pandas as pd\n",
    "import numpy as np\n",
    "import matplotlib.pyplot as plt\n",
    "\n",
    "from sklearn.model_selection import train_test_split, KFold\n",
    "from sklearn.feature_extraction import DictVectorizer\n",
    "from sklearn.linear_model import LogisticRegression\n",
    "from sklearn.metrics import roc_auc_score, precision_score, recall_score\n",
    "\n",
    "pd.set_option('display.max_columns', 200)\n",
    "DATA_URL = \"https://raw.githubusercontent.com/alexeygrigorev/datasets/master/course_lead_scoring.csv\"\n",
    "\n",
    "print(pd.__version__)\n"
   ]
  },
  {
   "cell_type": "code",
   "execution_count": 2,
   "id": "2e1445df",
   "metadata": {},
   "outputs": [
    {
     "name": "stdout",
     "output_type": "stream",
     "text": [
      "Shape: (1462, 9)\n"
     ]
    },
    {
     "data": {
      "text/html": [
       "<div>\n",
       "<style scoped>\n",
       "    .dataframe tbody tr th:only-of-type {\n",
       "        vertical-align: middle;\n",
       "    }\n",
       "\n",
       "    .dataframe tbody tr th {\n",
       "        vertical-align: top;\n",
       "    }\n",
       "\n",
       "    .dataframe thead th {\n",
       "        text-align: right;\n",
       "    }\n",
       "</style>\n",
       "<table border=\"1\" class=\"dataframe\">\n",
       "  <thead>\n",
       "    <tr style=\"text-align: right;\">\n",
       "      <th></th>\n",
       "      <th>lead_source</th>\n",
       "      <th>industry</th>\n",
       "      <th>number_of_courses_viewed</th>\n",
       "      <th>annual_income</th>\n",
       "      <th>employment_status</th>\n",
       "      <th>location</th>\n",
       "      <th>interaction_count</th>\n",
       "      <th>lead_score</th>\n",
       "      <th>converted</th>\n",
       "    </tr>\n",
       "  </thead>\n",
       "  <tbody>\n",
       "    <tr>\n",
       "      <th>0</th>\n",
       "      <td>paid_ads</td>\n",
       "      <td>NaN</td>\n",
       "      <td>1</td>\n",
       "      <td>79450.0</td>\n",
       "      <td>unemployed</td>\n",
       "      <td>south_america</td>\n",
       "      <td>4</td>\n",
       "      <td>0.94</td>\n",
       "      <td>1</td>\n",
       "    </tr>\n",
       "    <tr>\n",
       "      <th>1</th>\n",
       "      <td>social_media</td>\n",
       "      <td>retail</td>\n",
       "      <td>1</td>\n",
       "      <td>46992.0</td>\n",
       "      <td>employed</td>\n",
       "      <td>south_america</td>\n",
       "      <td>1</td>\n",
       "      <td>0.80</td>\n",
       "      <td>0</td>\n",
       "    </tr>\n",
       "    <tr>\n",
       "      <th>2</th>\n",
       "      <td>events</td>\n",
       "      <td>healthcare</td>\n",
       "      <td>5</td>\n",
       "      <td>78796.0</td>\n",
       "      <td>unemployed</td>\n",
       "      <td>australia</td>\n",
       "      <td>3</td>\n",
       "      <td>0.69</td>\n",
       "      <td>1</td>\n",
       "    </tr>\n",
       "    <tr>\n",
       "      <th>3</th>\n",
       "      <td>paid_ads</td>\n",
       "      <td>retail</td>\n",
       "      <td>2</td>\n",
       "      <td>83843.0</td>\n",
       "      <td>NaN</td>\n",
       "      <td>australia</td>\n",
       "      <td>1</td>\n",
       "      <td>0.87</td>\n",
       "      <td>0</td>\n",
       "    </tr>\n",
       "    <tr>\n",
       "      <th>4</th>\n",
       "      <td>referral</td>\n",
       "      <td>education</td>\n",
       "      <td>3</td>\n",
       "      <td>85012.0</td>\n",
       "      <td>self_employed</td>\n",
       "      <td>europe</td>\n",
       "      <td>3</td>\n",
       "      <td>0.62</td>\n",
       "      <td>1</td>\n",
       "    </tr>\n",
       "  </tbody>\n",
       "</table>\n",
       "</div>"
      ],
      "text/plain": [
       "    lead_source    industry  number_of_courses_viewed  annual_income  \\\n",
       "0      paid_ads         NaN                         1        79450.0   \n",
       "1  social_media      retail                         1        46992.0   \n",
       "2        events  healthcare                         5        78796.0   \n",
       "3      paid_ads      retail                         2        83843.0   \n",
       "4      referral   education                         3        85012.0   \n",
       "\n",
       "  employment_status       location  interaction_count  lead_score  converted  \n",
       "0        unemployed  south_america                  4        0.94          1  \n",
       "1          employed  south_america                  1        0.80          0  \n",
       "2        unemployed      australia                  3        0.69          1  \n",
       "3               NaN      australia                  1        0.87          0  \n",
       "4     self_employed         europe                  3        0.62          1  "
      ]
     },
     "execution_count": 2,
     "metadata": {},
     "output_type": "execute_result"
    }
   ],
   "source": [
    "\n",
    "# %% [markdown]\n",
    "# ## 1. Cargar datos y preparación\n",
    "# - Cargar CSV desde la URL\n",
    "# - Comprobar nulos\n",
    "# - Imputación:\n",
    "#   - Categóricos -> 'NA'\n",
    "#   - Numéricos -> 0.0\n",
    "\n",
    "df = pd.read_csv(DATA_URL)\n",
    "print(\"Shape:\", df.shape)\n",
    "df.head()\n"
   ]
  },
  {
   "cell_type": "code",
   "execution_count": 3,
   "id": "f286c9a6",
   "metadata": {},
   "outputs": [
    {
     "data": {
      "text/plain": [
       "annual_income        181\n",
       "industry             134\n",
       "lead_source          128\n",
       "employment_status    100\n",
       "location              63\n",
       "dtype: int64"
      ]
     },
     "execution_count": 3,
     "metadata": {},
     "output_type": "execute_result"
    }
   ],
   "source": [
    "\n",
    "# Comprobar nulos\n",
    "na_counts = df.isna().sum().sort_values(ascending=False)\n",
    "na_counts[na_counts>0]\n"
   ]
  },
  {
   "cell_type": "code",
   "execution_count": 4,
   "id": "9a9aa8a8",
   "metadata": {},
   "outputs": [
    {
     "data": {
      "text/plain": [
       "0"
      ]
     },
     "execution_count": 4,
     "metadata": {},
     "output_type": "execute_result"
    }
   ],
   "source": [
    "\n",
    "# Identificar columnas categóricas y numéricas\n",
    "cat_cols = list(df.select_dtypes(include='object').columns)\n",
    "num_cols = list(df.select_dtypes(exclude='object').columns)\n",
    "\n",
    "# Asegurar que la variable objetivo esté en num_cols y excluirla de features numéricas si aparece\n",
    "target = 'converted'\n",
    "if target in num_cols:\n",
    "    num_cols.remove(target)\n",
    "\n",
    "# Imputación\n",
    "for c in cat_cols:\n",
    "    df[c] = df[c].fillna('NA')\n",
    "for c in num_cols:\n",
    "    df[c] = df[c].fillna(0.0)\n",
    "\n",
    "# Sanity check\n",
    "df.isna().sum().sum()\n"
   ]
  },
  {
   "cell_type": "code",
   "execution_count": 5,
   "id": "55e967f0",
   "metadata": {},
   "outputs": [
    {
     "data": {
      "text/plain": [
       "(876, 293, 293)"
      ]
     },
     "execution_count": 5,
     "metadata": {},
     "output_type": "execute_result"
    }
   ],
   "source": [
    "\n",
    "# %% [markdown]\n",
    "# ## 2. Split: train / val / test = 60% / 20% / 20% (random_state=1)\n",
    "# - Primero: train+val vs test (80/20)\n",
    "# - Segundo: dentro de train+val, separar 60/20 (equivale a 75/25 de ese 80%)\n",
    "\n",
    "# 80/20\n",
    "df_full_train, df_test = train_test_split(df, test_size=0.2, random_state=1)\n",
    "\n",
    "# 60/20 dentro del 80% -> val ratio = 0.25 del full_train (0.8 * 0.25 = 0.2 total)\n",
    "df_train, df_val = train_test_split(df_full_train, test_size=0.25, random_state=1)\n",
    "\n",
    "df_train = df_train.reset_index(drop=True)\n",
    "df_val   = df_val.reset_index(drop=True)\n",
    "df_test  = df_test.reset_index(drop=True)\n",
    "\n",
    "y_train = df_train[target].values\n",
    "y_val   = df_val[target].values\n",
    "y_test  = df_test[target].values\n",
    "\n",
    "# Eliminar target de los features\n",
    "X_train_df = df_train.drop(columns=[target])\n",
    "X_val_df   = df_val.drop(columns=[target])\n",
    "X_test_df  = df_test.drop(columns=[target])\n",
    "\n",
    "len(df_train), len(df_val), len(df_test)\n"
   ]
  },
  {
   "cell_type": "markdown",
   "id": "f2395d60",
   "metadata": {},
   "source": [
    "\n",
    "## Question 1 — ROC AUC feature importance (solo variables numéricas)\n",
    "\n",
    "> Para cada variable **numérica**, usamos el **valor de la variable como score** (predicción) y calculamos el **AUC** contra `y_train`.  \n",
    "> Si el AUC < 0.5, invertimos el signo (multiplicamos por −1) y recalculamos.  \n",
    "> Al final reportamos el AUC **ajustado** y ordenamos.\n"
   ]
  },
  {
   "cell_type": "code",
   "execution_count": 6,
   "id": "ab38e74d",
   "metadata": {},
   "outputs": [
    {
     "data": {
      "text/plain": [
       "[('number_of_courses_viewed', 0.7635680590007088),\n",
       " ('interaction_count', 0.738270176293409),\n",
       " ('lead_score', 0.6144993577250176),\n",
       " ('annual_income', 0.5519578313253012)]"
      ]
     },
     "execution_count": 6,
     "metadata": {},
     "output_type": "execute_result"
    }
   ],
   "source": [
    "\n",
    "from sklearn.metrics import roc_auc_score\n",
    "\n",
    "q1_scores = []\n",
    "for c in num_cols:\n",
    "    s = X_train_df[c].values\n",
    "    try:\n",
    "        auc = roc_auc_score(y_train, s)\n",
    "    except ValueError:\n",
    "        # Si hay pocos valores distintos, puede fallar; saltamos.\n",
    "        continue\n",
    "    if auc < 0.5:\n",
    "        s = -s\n",
    "        auc = roc_auc_score(y_train, s)\n",
    "    q1_scores.append((c, auc))\n",
    "\n",
    "q1_scores_sorted = sorted(q1_scores, key=lambda x: x[1], reverse=True)\n",
    "q1_scores_sorted[:10]\n"
   ]
  },
  {
   "cell_type": "markdown",
   "id": "fabafe93",
   "metadata": {},
   "source": [
    "\n",
    "## Question 2 — Entrenar modelo (DictVectorizer + LogisticRegression)\n",
    "\n",
    "> - One-Hot Encoding con `DictVectorizer`  \n",
    "> - Modelo: `LogisticRegression(solver='liblinear', C=1.0, max_iter=1000)`  \n",
    "> - Métrica: **AUC** en **validation**\n"
   ]
  },
  {
   "cell_type": "code",
   "execution_count": 7,
   "id": "0e66dc53",
   "metadata": {},
   "outputs": [
    {
     "name": "stdout",
     "output_type": "stream",
     "text": [
      "Validation AUC: 0.81713\n"
     ]
    }
   ],
   "source": [
    "\n",
    "# Preparar dicts para One-Hot\n",
    "features = cat_cols + num_cols\n",
    "\n",
    "dv = DictVectorizer(sparse=False)\n",
    "X_train = dv.fit_transform(X_train_df[features].to_dict(orient='records'))\n",
    "X_val   = dv.transform(X_val_df[features].to_dict(orient='records'))\n",
    "\n",
    "model = LogisticRegression(solver='liblinear', C=1.0, max_iter=1000)\n",
    "model.fit(X_train, y_train)\n",
    "\n",
    "val_pred = model.predict_proba(X_val)[:, 1]\n",
    "auc_val = roc_auc_score(y_val, val_pred)\n",
    "print(\"Validation AUC:\", round(auc_val, 5))\n"
   ]
  },
  {
   "cell_type": "markdown",
   "id": "04304310",
   "metadata": {},
   "source": [
    "\n",
    "## Question 3 — Precision & Recall vs Threshold\n",
    "\n",
    "> - Evaluar **todos los thresholds** de 0.00 a 1.00 (paso 0.01)  \n",
    "> - Calcular precision y recall para cada threshold  \n",
    "> - **Graficar** ambas curvas y **encontrar el umbral** donde más se aproximan (intersección)\n"
   ]
  },
  {
   "cell_type": "code",
   "execution_count": 8,
   "id": "8838ccff",
   "metadata": {},
   "outputs": [
    {
     "data": {
      "image/png": "[encoded data removed]",
      "text/plain": [
       "<Figure size 640x480 with 1 Axes>"
      ]
     },
     "metadata": {},
     "output_type": "display_data"
    },
    {
     "name": "stdout",
     "output_type": "stream",
     "text": [
      "Threshold de intersección (aprox): 0.98\n"
     ]
    }
   ],
   "source": [
    "\n",
    "thresholds = np.arange(0.0, 1.001, 0.01)\n",
    "precisions = []\n",
    "recalls = []\n",
    "\n",
    "for t in thresholds:\n",
    "    preds = (val_pred >= t).astype(int)\n",
    "    # Evitar warnings si no hay positivos predichos\n",
    "    p = precision_score(y_val, preds, zero_division=0)\n",
    "    r = recall_score(y_val, preds, zero_division=0)\n",
    "    precisions.append(p)\n",
    "    recalls.append(r)\n",
    "\n",
    "# Plot\n",
    "plt.figure()\n",
    "plt.plot(thresholds, precisions, label='Precision')\n",
    "plt.plot(thresholds, recalls, label='Recall')\n",
    "plt.xlabel('Threshold')\n",
    "plt.ylabel('Score')\n",
    "plt.title('Precision and Recall vs. Threshold')\n",
    "plt.legend()\n",
    "plt.show()\n",
    "\n",
    "# Encontrar \"intersección\" aproximada: el threshold donde |P - R| es mínimo\n",
    "diff = np.abs(np.array(precisions) - np.array(recalls))\n",
    "t_intersect = thresholds[np.argmin(diff)]\n",
    "print(\"Threshold de intersección (aprox):\", round(float(t_intersect), 3))\n"
   ]
  },
  {
   "cell_type": "markdown",
   "id": "2057df21",
   "metadata": {},
   "source": [
    "\n",
    "## Question 4 — F1 score vs Threshold\n",
    "\n",
    "> - Calcular **F1** para thresholds 0.00 a 1.00 (paso 0.01)  \n",
    "> - Reportar el **threshold** con F1 **máximo**\n"
   ]
  },
  {
   "cell_type": "code",
   "execution_count": 9,
   "id": "6901c046",
   "metadata": {},
   "outputs": [
    {
     "data": {
      "image/png": "[encoded data removed]",
      "text/plain": [
       "<Figure size 640x480 with 1 Axes>"
      ]
     },
     "metadata": {},
     "output_type": "display_data"
    },
    {
     "name": "stdout",
     "output_type": "stream",
     "text": [
      "Mejor threshold F1: 0.57 | F1: 0.8125\n"
     ]
    }
   ],
   "source": [
    "\n",
    "f1s = []\n",
    "for p, r in zip(precisions, recalls):\n",
    "    if p + r == 0:\n",
    "        f1s.append(0.0)\n",
    "    else:\n",
    "        f1s.append(2 * p * r / (p + r))\n",
    "\n",
    "f1s = np.array(f1s)\n",
    "t_best_f1 = thresholds[np.argmax(f1s)]\n",
    "best_f1 = f1s.max()\n",
    "\n",
    "plt.figure()\n",
    "plt.plot(thresholds, f1s)\n",
    "plt.xlabel('Threshold')\n",
    "plt.ylabel('F1 score')\n",
    "plt.title('F1 vs. Threshold')\n",
    "plt.show()\n",
    "\n",
    "print(\"Mejor threshold F1:\", round(float(t_best_f1), 3), \"| F1:\", round(float(best_f1), 4))\n"
   ]
  },
  {
   "cell_type": "markdown",
   "id": "46cf2882",
   "metadata": {},
   "source": [
    "\n",
    "## Question 5 — 5-Fold CV (AUC std)\n",
    "\n",
    "> - `KFold(n_splits=5, shuffle=True, random_state=1)`  \n",
    "> - Iterar sobre *df_full_train* (80% del total)  \n",
    "> - Entrenar y evaluar (AUC en valid)  \n",
    "> - **Reportar desviación estándar (std)**\n"
   ]
  },
  {
   "cell_type": "code",
   "execution_count": 10,
   "id": "69efdd0b",
   "metadata": {},
   "outputs": [
    {
     "name": "stdout",
     "output_type": "stream",
     "text": [
      "AUC por fold: [0.81805 0.8035  0.84252 0.80236 0.84476]\n",
      "Mean: 0.82224 | Std: 0.01835\n"
     ]
    }
   ],
   "source": [
    "\n",
    "# Preparar df_full_train y target\n",
    "df_full_train = pd.concat([df_train, df_val], ignore_index=True)\n",
    "y_full = df_full_train[target].values\n",
    "X_full = df_full_train.drop(columns=[target])[features]\n",
    "\n",
    "kfold = KFold(n_splits=5, shuffle=True, random_state=1)\n",
    "\n",
    "def train_eval(X_tr_df, y_tr, X_va_df, y_va, C=1.0):\n",
    "    dv_local = DictVectorizer(sparse=False)\n",
    "    X_tr = dv_local.fit_transform(X_tr_df.to_dict(orient='records'))\n",
    "    X_va = dv_local.transform(X_va_df.to_dict(orient='records'))\n",
    "    m = LogisticRegression(solver='liblinear', C=C, max_iter=1000)\n",
    "    m.fit(X_tr, y_tr)\n",
    "    p = m.predict_proba(X_va)[:, 1]\n",
    "    return roc_auc_score(y_va, p)\n",
    "\n",
    "scores = []\n",
    "for tr_idx, va_idx in kfold.split(df_full_train):\n",
    "    X_tr_df = X_full.iloc[tr_idx]\n",
    "    y_tr = y_full[tr_idx]\n",
    "    X_va_df = X_full.iloc[va_idx]\n",
    "    y_va = y_full[va_idx]\n",
    "    auc = train_eval(X_tr_df, y_tr, X_va_df, y_va, C=1.0)\n",
    "    scores.append(auc)\n",
    "\n",
    "scores = np.array(scores)\n",
    "print(\"AUC por fold:\", np.round(scores, 5))\n",
    "print(\"Mean:\", round(float(scores.mean()), 5), \"| Std:\", round(float(scores.std()), 5))\n"
   ]
  },
  {
   "cell_type": "markdown",
   "id": "6d3c5860",
   "metadata": {},
   "source": [
    "\n",
    "## Question 6 — Hyperparameter Tuning (C in [1e-6, 1e-3, 1])\n",
    "\n",
    "> - Mismos 5 folds  \n",
    "> - Modelo: `LogisticRegression(solver='liblinear', C=C, max_iter=1000)`  \n",
    "> - Reportar **mean** y **std** redondeados a 3 decimales para cada C  \n",
    "> - Elegir **mejor C** (si empatan en mean, elegir menor std; si persiste el empate, elegir **el C más pequeño**)\n"
   ]
  },
  {
   "cell_type": "code",
   "execution_count": 11,
   "id": "e15860d0",
   "metadata": {},
   "outputs": [
    {
     "name": "stdout",
     "output_type": "stream",
     "text": [
      "C=1e-06: mean=0.561, std=0.043\n",
      "C=0.001: mean=0.867, std=0.015\n",
      "C=1.0: mean=0.822, std=0.018\n",
      "Mejor C: 0.001 | mean: 0.867 | std: 0.015\n"
     ]
    }
   ],
   "source": [
    "\n",
    "Cs = [1e-6, 1e-3, 1.0]\n",
    "results = {}\n",
    "\n",
    "for C in Cs:\n",
    "    fold_scores = []\n",
    "    for tr_idx, va_idx in kfold.split(df_full_train):\n",
    "        X_tr_df = X_full.iloc[tr_idx]\n",
    "        y_tr = y_full[tr_idx]\n",
    "        X_va_df = X_full.iloc[va_idx]\n",
    "        y_va = y_full[va_idx]\n",
    "        auc = train_eval(X_tr_df, y_tr, X_va_df, y_va, C=C)\n",
    "        fold_scores.append(auc)\n",
    "    fold_scores = np.array(fold_scores)\n",
    "    results[C] = (fold_scores.mean(), fold_scores.std())\n",
    "\n",
    "# Mostrar resultados\n",
    "for C, (m, s) in results.items():\n",
    "    print(f\"C={C}: mean={m:.3f}, std={s:.3f}\")\n",
    "\n",
    "# Selección del mejor C\n",
    "# 1) max mean; 2) si empatan, menor std; 3) si persiste, menor C\n",
    "best = None\n",
    "for C, (m, s) in results.items():\n",
    "    if best is None:\n",
    "        best = (C, m, s)\n",
    "    else:\n",
    "        _, bm, bs = best\n",
    "        if (m > bm) or (np.isclose(m, bm) and (s < bs or (np.isclose(s, bs) and C < best[0]))):\n",
    "            best = (C, m, s)\n",
    "\n",
    "print(\"Mejor C:\", best[0], \"| mean:\", round(float(best[1]), 3), \"| std:\", round(float(best[2]), 3))\n"
   ]
  },
  {
   "cell_type": "markdown",
   "id": "3e8dc0e0",
   "metadata": {},
   "source": [
    "\n",
    "## 7. Resumen para el formulario\n",
    "\n",
    "Ejecuta la celda siguiente al terminar todas las anteriores.  \n",
    "Imprime las opciones que debes seleccionar (redondeos ya aplicados).\n"
   ]
  },
  {
   "cell_type": "code",
   "execution_count": 12,
   "id": "0d5e956f",
   "metadata": {},
   "outputs": [
    {
     "name": "stdout",
     "output_type": "stream",
     "text": [
      "Q1 — Mejor variable numérica por AUC: number_of_courses_viewed (AUC ajustado=0.764)\n",
      "Q2 — AUC (val): 0.817 -> opción: 0.72\n",
      "Q3 — Umbral intersección P=R: 0.980 -> opción: 0.745\n",
      "Q4 — Threshold F1 máximo: 0.570 -> opción: 0.54\n",
      "Q5 — 5-Fold std: 0.01835 -> opción: 0.006\n",
      "Q6 — Mejor C: 0.001 (mean=0.867, std=0.015) -> opción: 0.001\n"
     ]
    }
   ],
   "source": [
    "\n",
    "# Helper para mapear a opciones del formulario (busca la más cercana)\n",
    "def closest_option(value, options):\n",
    "    arr = np.array(options, dtype=float)\n",
    "    idx = np.argmin(np.abs(arr - value))\n",
    "    return float(arr[idx])\n",
    "\n",
    "# Q1\n",
    "best_num, best_auc = q1_scores_sorted[0]\n",
    "print(f\"Q1 — Mejor variable numérica por AUC: {best_num} (AUC ajustado={best_auc:.3f})\")\n",
    "\n",
    "# Q2\n",
    "opt_q2 = closest_option(round(auc_val, 3), [0.32, 0.52, 0.72, 0.92])\n",
    "print(f\"Q2 — AUC (val): {auc_val:.3f} -> opción: {opt_q2}\")\n",
    "\n",
    "# Q3\n",
    "opt_q3 = closest_option(round(float(t_intersect), 3), [0.145, 0.345, 0.545, 0.745])\n",
    "print(f\"Q3 — Umbral intersección P=R: {t_intersect:.3f} -> opción: {opt_q3}\")\n",
    "\n",
    "# Q4\n",
    "opt_q4 = closest_option(round(float(t_best_f1), 2), [0.14, 0.34, 0.54, 0.74])\n",
    "print(f\"Q4 — Threshold F1 máximo: {t_best_f1:.3f} -> opción: {opt_q4}\")\n",
    "\n",
    "# Q5\n",
    "std_q5 = float(scores.std())\n",
    "opt_q5 = closest_option(round(std_q5, 3), [0.0001, 0.006, 0.06, 0.36])\n",
    "print(f\"Q5 — 5-Fold std: {std_q5:.5f} -> opción: {opt_q5}\")\n",
    "\n",
    "# Q6\n",
    "bestC, meanC, stdC = best\n",
    "opt_q6 = bestC  # ya es una de [1e-6, 1e-3, 1]\n",
    "print(f\"Q6 — Mejor C: {bestC} (mean={meanC:.3f}, std={stdC:.3f}) -> opción: {opt_q6}\")\n"
   ]
  },
  {
   "cell_type": "code",
   "execution_count": null,
   "id": "d532f9e8-8162-4a9e-bd61-3c1a6507df71",
   "metadata": {},
   "outputs": [],
   "source": []
  }
 ],
 "metadata": {
  "kernelspec": {
   "display_name": "Python 3.9 (ML)",
   "language": "python",
   "name": "ml"
  },
  "language_info": {
   "codemirror_mode": {
    "name": "ipython",
    "version": 3
   },
   "file_extension": ".py",
   "mimetype": "text/x-python",
   "name": "python",
   "nbconvert_exporter": "python",
   "pygments_lexer": "ipython3",
   "version": "3.9.20"
  }
 },
 "nbformat": 4,
 "nbformat_minor": 5
}
